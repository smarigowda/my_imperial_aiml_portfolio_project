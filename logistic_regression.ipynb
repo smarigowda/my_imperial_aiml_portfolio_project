{
 "cells": [
  {
   "metadata": {},
   "cell_type": "markdown",
   "source": "# Using a ML model to recommend content (e.g., movies, articles, songs) to users based on preferences or features",
   "id": "8aa7cabd2af6ec50"
  },
  {
   "metadata": {
    "ExecuteTime": {
     "end_time": "2025-06-01T15:14:24.726374Z",
     "start_time": "2025-06-01T15:14:24.250233Z"
    }
   },
   "cell_type": "code",
   "source": "import pandas as pd",
   "id": "fa37e3e7767f997a",
   "outputs": [],
   "execution_count": 2
  },
  {
   "metadata": {},
   "cell_type": "markdown",
   "source": [
    "## Load Data\n",
    "I will be using this data set https://grouplens.org/datasets/movielens/ for my Portfolio Project. This data set has 100000 ratings by 943 users on 1682 items\n"
   ],
   "id": "8b1eb7ef4669b6f1"
  },
  {
   "cell_type": "code",
   "id": "initial_id",
   "metadata": {
    "collapsed": true,
    "ExecuteTime": {
     "end_time": "2025-06-01T15:14:26.732214Z",
     "start_time": "2025-06-01T15:14:26.674295Z"
    }
   },
   "source": [
    "# Load ratings\n",
    "column_names = ['user_id', 'item_id', 'rating', 'timestamp']\n",
    "ratings = pd.read_csv('ml-100k/u.data', sep='\\t', names=column_names)\n",
    "\n",
    "# Load movie information\n",
    "movie_columns = [\n",
    "    'item_id', 'title', 'release_date', 'video_release_date', 'IMDb_URL',\n",
    "    'unknown', 'Action', 'Adventure', 'Animation', 'Children', 'Comedy', 'Crime',\n",
    "    'Documentary', 'Drama', 'Fantasy', 'Film-Noir', 'Horror', 'Musical',\n",
    "    'Mystery', 'Romance', 'Sci-Fi', 'Thriller', 'War', 'Western'\n",
    "]\n",
    "movies = pd.read_csv('ml-100k/u.item', sep='|', encoding='latin-1', names=movie_columns)\n",
    "\n",
    "# Merge ratings with movie metadata\n",
    "data = pd.merge(ratings, movies, on='item_id')\n",
    "\n",
    "# Drop unused columns\n",
    "data = data.drop(['timestamp', 'release_date', 'video_release_date', 'IMDb_URL'], axis=1)\n",
    "\n",
    "# Preview\n",
    "data.head()"
   ],
   "outputs": [
    {
     "data": {
      "text/plain": [
       "   user_id  item_id  rating                       title  unknown  Action  \\\n",
       "0      196      242       3                Kolya (1996)        0       0   \n",
       "1      186      302       3    L.A. Confidential (1997)        0       0   \n",
       "2       22      377       1         Heavyweights (1994)        0       0   \n",
       "3      244       51       2  Legends of the Fall (1994)        0       0   \n",
       "4      166      346       1         Jackie Brown (1997)        0       0   \n",
       "\n",
       "   Adventure  Animation  Children  Comedy  ...  Fantasy  Film-Noir  Horror  \\\n",
       "0          0          0         0       1  ...        0          0       0   \n",
       "1          0          0         0       0  ...        0          1       0   \n",
       "2          0          0         1       1  ...        0          0       0   \n",
       "3          0          0         0       0  ...        0          0       0   \n",
       "4          0          0         0       0  ...        0          0       0   \n",
       "\n",
       "   Musical  Mystery  Romance  Sci-Fi  Thriller  War  Western  \n",
       "0        0        0        0       0         0    0        0  \n",
       "1        0        1        0       0         1    0        0  \n",
       "2        0        0        0       0         0    0        0  \n",
       "3        0        0        1       0         0    1        1  \n",
       "4        0        0        0       0         0    0        0  \n",
       "\n",
       "[5 rows x 23 columns]"
      ],
      "text/html": [
       "<div>\n",
       "<style scoped>\n",
       "    .dataframe tbody tr th:only-of-type {\n",
       "        vertical-align: middle;\n",
       "    }\n",
       "\n",
       "    .dataframe tbody tr th {\n",
       "        vertical-align: top;\n",
       "    }\n",
       "\n",
       "    .dataframe thead th {\n",
       "        text-align: right;\n",
       "    }\n",
       "</style>\n",
       "<table border=\"1\" class=\"dataframe\">\n",
       "  <thead>\n",
       "    <tr style=\"text-align: right;\">\n",
       "      <th></th>\n",
       "      <th>user_id</th>\n",
       "      <th>item_id</th>\n",
       "      <th>rating</th>\n",
       "      <th>title</th>\n",
       "      <th>unknown</th>\n",
       "      <th>Action</th>\n",
       "      <th>Adventure</th>\n",
       "      <th>Animation</th>\n",
       "      <th>Children</th>\n",
       "      <th>Comedy</th>\n",
       "      <th>...</th>\n",
       "      <th>Fantasy</th>\n",
       "      <th>Film-Noir</th>\n",
       "      <th>Horror</th>\n",
       "      <th>Musical</th>\n",
       "      <th>Mystery</th>\n",
       "      <th>Romance</th>\n",
       "      <th>Sci-Fi</th>\n",
       "      <th>Thriller</th>\n",
       "      <th>War</th>\n",
       "      <th>Western</th>\n",
       "    </tr>\n",
       "  </thead>\n",
       "  <tbody>\n",
       "    <tr>\n",
       "      <th>0</th>\n",
       "      <td>196</td>\n",
       "      <td>242</td>\n",
       "      <td>3</td>\n",
       "      <td>Kolya (1996)</td>\n",
       "      <td>0</td>\n",
       "      <td>0</td>\n",
       "      <td>0</td>\n",
       "      <td>0</td>\n",
       "      <td>0</td>\n",
       "      <td>1</td>\n",
       "      <td>...</td>\n",
       "      <td>0</td>\n",
       "      <td>0</td>\n",
       "      <td>0</td>\n",
       "      <td>0</td>\n",
       "      <td>0</td>\n",
       "      <td>0</td>\n",
       "      <td>0</td>\n",
       "      <td>0</td>\n",
       "      <td>0</td>\n",
       "      <td>0</td>\n",
       "    </tr>\n",
       "    <tr>\n",
       "      <th>1</th>\n",
       "      <td>186</td>\n",
       "      <td>302</td>\n",
       "      <td>3</td>\n",
       "      <td>L.A. Confidential (1997)</td>\n",
       "      <td>0</td>\n",
       "      <td>0</td>\n",
       "      <td>0</td>\n",
       "      <td>0</td>\n",
       "      <td>0</td>\n",
       "      <td>0</td>\n",
       "      <td>...</td>\n",
       "      <td>0</td>\n",
       "      <td>1</td>\n",
       "      <td>0</td>\n",
       "      <td>0</td>\n",
       "      <td>1</td>\n",
       "      <td>0</td>\n",
       "      <td>0</td>\n",
       "      <td>1</td>\n",
       "      <td>0</td>\n",
       "      <td>0</td>\n",
       "    </tr>\n",
       "    <tr>\n",
       "      <th>2</th>\n",
       "      <td>22</td>\n",
       "      <td>377</td>\n",
       "      <td>1</td>\n",
       "      <td>Heavyweights (1994)</td>\n",
       "      <td>0</td>\n",
       "      <td>0</td>\n",
       "      <td>0</td>\n",
       "      <td>0</td>\n",
       "      <td>1</td>\n",
       "      <td>1</td>\n",
       "      <td>...</td>\n",
       "      <td>0</td>\n",
       "      <td>0</td>\n",
       "      <td>0</td>\n",
       "      <td>0</td>\n",
       "      <td>0</td>\n",
       "      <td>0</td>\n",
       "      <td>0</td>\n",
       "      <td>0</td>\n",
       "      <td>0</td>\n",
       "      <td>0</td>\n",
       "    </tr>\n",
       "    <tr>\n",
       "      <th>3</th>\n",
       "      <td>244</td>\n",
       "      <td>51</td>\n",
       "      <td>2</td>\n",
       "      <td>Legends of the Fall (1994)</td>\n",
       "      <td>0</td>\n",
       "      <td>0</td>\n",
       "      <td>0</td>\n",
       "      <td>0</td>\n",
       "      <td>0</td>\n",
       "      <td>0</td>\n",
       "      <td>...</td>\n",
       "      <td>0</td>\n",
       "      <td>0</td>\n",
       "      <td>0</td>\n",
       "      <td>0</td>\n",
       "      <td>0</td>\n",
       "      <td>1</td>\n",
       "      <td>0</td>\n",
       "      <td>0</td>\n",
       "      <td>1</td>\n",
       "      <td>1</td>\n",
       "    </tr>\n",
       "    <tr>\n",
       "      <th>4</th>\n",
       "      <td>166</td>\n",
       "      <td>346</td>\n",
       "      <td>1</td>\n",
       "      <td>Jackie Brown (1997)</td>\n",
       "      <td>0</td>\n",
       "      <td>0</td>\n",
       "      <td>0</td>\n",
       "      <td>0</td>\n",
       "      <td>0</td>\n",
       "      <td>0</td>\n",
       "      <td>...</td>\n",
       "      <td>0</td>\n",
       "      <td>0</td>\n",
       "      <td>0</td>\n",
       "      <td>0</td>\n",
       "      <td>0</td>\n",
       "      <td>0</td>\n",
       "      <td>0</td>\n",
       "      <td>0</td>\n",
       "      <td>0</td>\n",
       "      <td>0</td>\n",
       "    </tr>\n",
       "  </tbody>\n",
       "</table>\n",
       "<p>5 rows × 23 columns</p>\n",
       "</div>"
      ]
     },
     "execution_count": 3,
     "metadata": {},
     "output_type": "execute_result"
    }
   ],
   "execution_count": 3
  },
  {
   "metadata": {},
   "cell_type": "markdown",
   "source": [
    "## Checks for Missing Data and Other Preprocessing\n",
    "**MovieLens 100K dataset** https://grouplens.org/datasets/movielens/100k/ which I am using is **very clean** and was curated specifically for ML research. This data has been cleaned up - users who had less than 20 ratings or did not have complete demographic information were removed from this data set, so I am expecting that **minimal preprocessing is needed**"
   ],
   "id": "cc3f022b6545013f"
  },
  {
   "metadata": {},
   "cell_type": "markdown",
   "source": [
    "#### Check for Missing Values\n",
    "The proportion represents about a 55:45 split, which is relatively balanced compared to severe imbalances we might see in some other datasets (like 90:10 or worse). Most algorithms should handle this reasonably well without major modifications."
   ],
   "id": "21d38125dfa3749"
  },
  {
   "metadata": {
    "ExecuteTime": {
     "end_time": "2025-06-01T15:14:30.282281Z",
     "start_time": "2025-06-01T15:14:30.274920Z"
    }
   },
   "cell_type": "code",
   "source": [
    "print(\"Missing values in ratings + metadata:\")\n",
    "print(data.isnull().sum())\n",
    "# Expected result: all zeros (no missing values)"
   ],
   "id": "975cc978fee69587",
   "outputs": [
    {
     "name": "stdout",
     "output_type": "stream",
     "text": [
      "Missing values in ratings + metadata:\n",
      "user_id        0\n",
      "item_id        0\n",
      "rating         0\n",
      "title          0\n",
      "unknown        0\n",
      "Action         0\n",
      "Adventure      0\n",
      "Animation      0\n",
      "Children       0\n",
      "Comedy         0\n",
      "Crime          0\n",
      "Documentary    0\n",
      "Drama          0\n",
      "Fantasy        0\n",
      "Film-Noir      0\n",
      "Horror         0\n",
      "Musical        0\n",
      "Mystery        0\n",
      "Romance        0\n",
      "Sci-Fi         0\n",
      "Thriller       0\n",
      "War            0\n",
      "Western        0\n",
      "dtype: int64\n"
     ]
    }
   ],
   "execution_count": 4
  },
  {
   "metadata": {},
   "cell_type": "markdown",
   "source": "#### Check for Duplicates",
   "id": "19c454d86cf4bc7b"
  },
  {
   "metadata": {
    "ExecuteTime": {
     "end_time": "2025-06-01T15:14:33.118254Z",
     "start_time": "2025-06-01T15:14:33.090562Z"
    }
   },
   "cell_type": "code",
   "source": [
    "print(\"Number of duplicate rows:\", data.duplicated().sum())\n",
    "# There shouldn't be any duplicates"
   ],
   "id": "1f2b3f6938f9f0b",
   "outputs": [
    {
     "name": "stdout",
     "output_type": "stream",
     "text": [
      "Number of duplicate rows: 0\n"
     ]
    }
   ],
   "execution_count": 5
  },
  {
   "metadata": {},
   "cell_type": "markdown",
   "source": "## Prepare Features and Labels",
   "id": "c6d77e7d6b0e2c26"
  },
  {
   "metadata": {},
   "cell_type": "markdown",
   "source": [
    "We'll make a binary classification problem:\n",
    "1 if rating ≥ 4 → user liked the movie, 0 otherwise and use genres as features."
   ],
   "id": "dd474cba756b8922"
  },
  {
   "metadata": {
    "ExecuteTime": {
     "end_time": "2025-06-01T15:14:36.617838Z",
     "start_time": "2025-06-01T15:14:36.613431Z"
    }
   },
   "cell_type": "code",
   "source": [
    "# Create binary target variable\n",
    "data['liked'] = data['rating'] >= 4\n",
    "\n",
    "# Use genre columns as features\n",
    "genre_cols = movie_columns[6:]  # All genre columns\n",
    "X = data[genre_cols]\n",
    "y = data['liked'].astype(int)\n",
    "\n",
    "print(\"Feature matrix shape:\", X.shape)\n",
    "print(\"Target vector shape:\", y.shape)"
   ],
   "id": "cf27a67a29c5cb11",
   "outputs": [
    {
     "name": "stdout",
     "output_type": "stream",
     "text": [
      "Feature matrix shape: (100000, 18)\n",
      "Target vector shape: (100000,)\n"
     ]
    }
   ],
   "execution_count": 6
  },
  {
   "metadata": {},
   "cell_type": "markdown",
   "source": [
    "### Check for Class Imbalance\n",
    "\n",
    "This represents about a 55:45 split, which is relatively balanced compared to severe imbalances we might see in some other datasets (like 90:10 or worse). Most algorithms should handle this reasonably well without major modifications."
   ],
   "id": "889f54e638411591"
  },
  {
   "metadata": {
    "ExecuteTime": {
     "end_time": "2025-06-01T15:14:39.306581Z",
     "start_time": "2025-06-01T15:14:39.302456Z"
    }
   },
   "cell_type": "code",
   "source": "print(data['liked'].value_counts(normalize=True))",
   "id": "802e8dbbc980306d",
   "outputs": [
    {
     "name": "stdout",
     "output_type": "stream",
     "text": [
      "liked\n",
      "True     0.55375\n",
      "False    0.44625\n",
      "Name: proportion, dtype: float64\n"
     ]
    }
   ],
   "execution_count": 7
  },
  {
   "metadata": {},
   "cell_type": "markdown",
   "source": "## Train/ Validation / Test split",
   "id": "4681ae901c12457a"
  },
  {
   "metadata": {
    "ExecuteTime": {
     "end_time": "2025-06-01T15:14:41.981643Z",
     "start_time": "2025-06-01T15:14:41.933295Z"
    }
   },
   "cell_type": "code",
   "source": [
    "from sklearn.model_selection import train_test_split\n",
    "\n",
    "# Step 1: First split into train+val and test\n",
    "X_temp, X_test, y_temp, y_test = train_test_split(X, y, test_size=0.2, random_state=42, stratify=y)\n",
    "\n",
    "# Step 2: Split train+val into train and validation\n",
    "X_train, X_val, y_train, y_val = train_test_split(X_temp, y_temp, test_size=0.25, random_state=42, stratify=y_temp)\n",
    "# Note: 0.25 * 0.8 = 0.2 → so you get 60% train, 20% val, 20% test\n",
    "\n",
    "print(\"Train size:\", len(y_train))\n",
    "print(\"Validation size:\", len(y_val))\n",
    "print(\"Test size:\", len(y_test))"
   ],
   "id": "f286e7373c498a04",
   "outputs": [
    {
     "name": "stdout",
     "output_type": "stream",
     "text": [
      "Train size: 60000\n",
      "Validation size: 20000\n",
      "Test size: 20000\n"
     ]
    }
   ],
   "execution_count": 8
  },
  {
   "metadata": {},
   "cell_type": "markdown",
   "source": "# Train the model, and predict on Validation set - using Logistic Regression",
   "id": "676251f57f4b9581"
  },
  {
   "metadata": {
    "ExecuteTime": {
     "end_time": "2025-06-01T15:14:45.509823Z",
     "start_time": "2025-06-01T15:14:45.415216Z"
    }
   },
   "cell_type": "code",
   "source": [
    "from sklearn.linear_model import LogisticRegression\n",
    "from sklearn.preprocessing import StandardScaler\n",
    "from sklearn.metrics import classification_report\n",
    "\n",
    "# Scale the data\n",
    "scaler = StandardScaler()\n",
    "X_train_scaled = scaler.fit_transform(X_train)\n",
    "X_val_scaled = scaler.transform(X_val)\n",
    "X_test_scaled = scaler.transform(X_test)\n",
    "\n",
    "# Train the Logistic Regression model\n",
    "logreg = LogisticRegression(random_state=42, max_iter=1000)\n",
    "logreg.fit(X_train_scaled, y_train)\n",
    "\n",
    "# Predict on validation set\n",
    "y_val_pred_lr = logreg.predict(X_val_scaled)\n",
    "\n",
    "# Evaluate\n",
    "print(\"Logistic Regression - Validation Performance:\\n\")\n",
    "print(classification_report(y_val, y_val_pred_lr))\n"
   ],
   "id": "11655371f0851823",
   "outputs": [
    {
     "name": "stdout",
     "output_type": "stream",
     "text": [
      "Logistic Regression - Validation Performance:\n",
      "\n",
      "              precision    recall  f1-score   support\n",
      "\n",
      "           0       0.55      0.34      0.42      8925\n",
      "           1       0.59      0.77      0.67     11075\n",
      "\n",
      "    accuracy                           0.58     20000\n",
      "   macro avg       0.57      0.56      0.55     20000\n",
      "weighted avg       0.57      0.58      0.56     20000\n",
      "\n"
     ]
    }
   ],
   "execution_count": 9
  },
  {
   "metadata": {},
   "cell_type": "markdown",
   "source": "# Evaluation on Test Set",
   "id": "b09153239e735308"
  },
  {
   "metadata": {
    "ExecuteTime": {
     "end_time": "2025-06-01T15:15:33.971379Z",
     "start_time": "2025-06-01T15:15:33.927689Z"
    }
   },
   "cell_type": "code",
   "source": [
    "# Final test set evaluation\n",
    "y_test_pred_lr = logreg.predict(X_test_scaled)\n",
    "\n",
    "print(\"Logistic Regression - Test Performance:\\n\")\n",
    "print(classification_report(y_test, y_test_pred_lr))\n"
   ],
   "id": "48e0ef01cf61d7c",
   "outputs": [
    {
     "name": "stdout",
     "output_type": "stream",
     "text": [
      "Logistic Regression - Test Performance:\n",
      "\n",
      "              precision    recall  f1-score   support\n",
      "\n",
      "           0       0.54      0.34      0.42      8925\n",
      "           1       0.59      0.77      0.67     11075\n",
      "\n",
      "    accuracy                           0.58     20000\n",
      "   macro avg       0.57      0.56      0.54     20000\n",
      "weighted avg       0.57      0.58      0.56     20000\n",
      "\n"
     ]
    }
   ],
   "execution_count": 10
  }
 ],
 "metadata": {
  "kernelspec": {
   "display_name": "Python [conda env:ontopof_base] *",
   "language": "python",
   "name": "conda-env-ontopof_base-py"
  },
  "language_info": {
   "codemirror_mode": {
    "name": "ipython",
    "version": 2
   },
   "file_extension": ".py",
   "mimetype": "text/x-python",
   "name": "python",
   "nbconvert_exporter": "python",
   "pygments_lexer": "ipython2",
   "version": "2.7.6"
  }
 },
 "nbformat": 4,
 "nbformat_minor": 5
}
